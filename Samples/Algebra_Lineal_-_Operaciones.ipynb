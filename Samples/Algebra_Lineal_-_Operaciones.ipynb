{
 "cells": [
  {
   "cell_type": "markdown",
   "metadata": {},
   "source": [
    "# Álgebra Lineal \n",
    "\n",
    "## 1. Vectores\n",
    "\n",
    "$$ v = (v_1, v_2, \\cdots, v_n)$$"
   ]
  },
  {
   "cell_type": "code",
   "execution_count": 1,
   "metadata": {
    "collapsed": true
   },
   "outputs": [],
   "source": [
    "#importing libraries\n",
    "import numpy as np\n",
    "import itertools as it"
   ]
  },
  {
   "cell_type": "markdown",
   "metadata": {},
   "source": [
    "### A. Definiendo vectores"
   ]
  },
  {
   "cell_type": "code",
   "execution_count": 2,
   "metadata": {
    "collapsed": false
   },
   "outputs": [
    {
     "name": "stdout",
     "output_type": "stream",
     "text": [
      "[1 2 3 4 5]\n"
     ]
    }
   ],
   "source": [
    "v = np.array([1,2,3,4,5])\n",
    "print(v)"
   ]
  },
  {
   "cell_type": "code",
   "execution_count": 5,
   "metadata": {
    "collapsed": false
   },
   "outputs": [
    {
     "name": "stdout",
     "output_type": "stream",
     "text": [
      "15\n",
      "120\n"
     ]
    }
   ],
   "source": [
    "print(v.sum())\n",
    "print(v.prod())"
   ]
  },
  {
   "cell_type": "code",
   "execution_count": 6,
   "metadata": {
    "collapsed": false
   },
   "outputs": [
    {
     "name": "stdout",
     "output_type": "stream",
     "text": [
      "a =  [ 0.22643039  0.73036233  0.70903186  0.92595443  0.08653048]\n",
      "b =  [ 0.59780417  0.26198979  0.18395859  0.81399941  0.3513348 ]\n"
     ]
    }
   ],
   "source": [
    "a = np.random.rand(5)\n",
    "b = np.random.rand(5)\n",
    "print('a = ', a)\n",
    "print('b = ', b)"
   ]
  },
  {
   "cell_type": "markdown",
   "metadata": {},
   "source": [
    "### B. Operaciones de Vectores\n",
    "\n",
    "#### Suma/Resta\n",
    "\n",
    "$$ c = a \\pm b$$\n",
    "\n",
    "$$ c = (a_1\\pm b_1, a_2\\pm b_2, \\cdots, a_n \\pm b_n)$$"
   ]
  },
  {
   "cell_type": "code",
   "execution_count": 7,
   "metadata": {
    "collapsed": false
   },
   "outputs": [
    {
     "name": "stdout",
     "output_type": "stream",
     "text": [
      "c_sum =  [ 0.82423456  0.99235212  0.89299044  1.73995385  0.43786528]\n"
     ]
    }
   ],
   "source": [
    "c_sum = a + b\n",
    "print('c_sum = ', c_sum)"
   ]
  },
  {
   "cell_type": "code",
   "execution_count": 8,
   "metadata": {
    "collapsed": false
   },
   "outputs": [
    {
     "name": "stdout",
     "output_type": "stream",
     "text": [
      "c_sust =  [-0.37137378  0.46837255  0.52507327  0.11195502 -0.26480432]\n"
     ]
    }
   ],
   "source": [
    "c_sust = a - b\n",
    "print('c_sust = ', c_sust)"
   ]
  },
  {
   "cell_type": "markdown",
   "metadata": {},
   "source": [
    "#### Multiplicación"
   ]
  },
  {
   "cell_type": "code",
   "execution_count": 9,
   "metadata": {
    "collapsed": false
   },
   "outputs": [
    {
     "name": "stdout",
     "output_type": "stream",
     "text": [
      "c_mult =  [ 0.13536103  0.19134747  0.1304325   0.75372636  0.03040117]\n"
     ]
    }
   ],
   "source": [
    "c_mult = a * b\n",
    "print('c_mult = ', c_mult)"
   ]
  },
  {
   "cell_type": "code",
   "execution_count": 11,
   "metadata": {
    "collapsed": false
   },
   "outputs": [
    {
     "name": "stdout",
     "output_type": "stream",
     "text": [
      "c_div =  [ 0.37877017  2.78775118  3.85430154  1.13753698  0.24629067]\n"
     ]
    }
   ],
   "source": [
    "c_div = a / b\n",
    "print('c_div = ', c_div)"
   ]
  },
  {
   "cell_type": "markdown",
   "metadata": {},
   "source": [
    "#### Producto Punto"
   ]
  },
  {
   "cell_type": "code",
   "execution_count": 12,
   "metadata": {
    "collapsed": false
   },
   "outputs": [
    {
     "name": "stdout",
     "output_type": "stream",
     "text": [
      "c_dot =  1.24126853466\n"
     ]
    }
   ],
   "source": [
    "c_dot = a.dot(b)\n",
    "print('c_dot = ', c_dot)"
   ]
  },
  {
   "cell_type": "markdown",
   "metadata": {},
   "source": [
    "#### Multiplicación Vector-Escalar"
   ]
  },
  {
   "cell_type": "code",
   "execution_count": 13,
   "metadata": {
    "collapsed": true
   },
   "outputs": [],
   "source": [
    "s = 3"
   ]
  },
  {
   "cell_type": "code",
   "execution_count": 14,
   "metadata": {
    "collapsed": false
   },
   "outputs": [
    {
     "name": "stdout",
     "output_type": "stream",
     "text": [
      "c_esc =  [ 0.67929117  2.191087    2.12709557  2.77786329  0.25959145]\n"
     ]
    }
   ],
   "source": [
    "c_esc = s * a\n",
    "print('c_esc = ', c_esc)"
   ]
  },
  {
   "cell_type": "code",
   "execution_count": 19,
   "metadata": {
    "collapsed": false
   },
   "outputs": [
    {
     "name": "stdout",
     "output_type": "stream",
     "text": [
      "[-10.  -5.   0.   5.  10.]\n",
      "[(-10.0, -10.0, -10.0), (-10.0, -10.0, -5.0), (-10.0, -10.0, 0.0), (-10.0, -10.0, 5.0), (-10.0, -10.0, 10.0), (-10.0, -5.0, -10.0), (-10.0, -5.0, -5.0), (-10.0, -5.0, 0.0), (-10.0, -5.0, 5.0), (-10.0, -5.0, 10.0), (-10.0, 0.0, -10.0), (-10.0, 0.0, -5.0), (-10.0, 0.0, 0.0), (-10.0, 0.0, 5.0), (-10.0, 0.0, 10.0), (-10.0, 5.0, -10.0), (-10.0, 5.0, -5.0), (-10.0, 5.0, 0.0), (-10.0, 5.0, 5.0), (-10.0, 5.0, 10.0), (-10.0, 10.0, -10.0), (-10.0, 10.0, -5.0), (-10.0, 10.0, 0.0), (-10.0, 10.0, 5.0), (-10.0, 10.0, 10.0), (-5.0, -10.0, -10.0), (-5.0, -10.0, -5.0), (-5.0, -10.0, 0.0), (-5.0, -10.0, 5.0), (-5.0, -10.0, 10.0), (-5.0, -5.0, -10.0), (-5.0, -5.0, -5.0), (-5.0, -5.0, 0.0), (-5.0, -5.0, 5.0), (-5.0, -5.0, 10.0), (-5.0, 0.0, -10.0), (-5.0, 0.0, -5.0), (-5.0, 0.0, 0.0), (-5.0, 0.0, 5.0), (-5.0, 0.0, 10.0), (-5.0, 5.0, -10.0), (-5.0, 5.0, -5.0), (-5.0, 5.0, 0.0), (-5.0, 5.0, 5.0), (-5.0, 5.0, 10.0), (-5.0, 10.0, -10.0), (-5.0, 10.0, -5.0), (-5.0, 10.0, 0.0), (-5.0, 10.0, 5.0), (-5.0, 10.0, 10.0), (0.0, -10.0, -10.0), (0.0, -10.0, -5.0), (0.0, -10.0, 0.0), (0.0, -10.0, 5.0), (0.0, -10.0, 10.0), (0.0, -5.0, -10.0), (0.0, -5.0, -5.0), (0.0, -5.0, 0.0), (0.0, -5.0, 5.0), (0.0, -5.0, 10.0), (0.0, 0.0, -10.0), (0.0, 0.0, -5.0), (0.0, 0.0, 0.0), (0.0, 0.0, 5.0), (0.0, 0.0, 10.0), (0.0, 5.0, -10.0), (0.0, 5.0, -5.0), (0.0, 5.0, 0.0), (0.0, 5.0, 5.0), (0.0, 5.0, 10.0), (0.0, 10.0, -10.0), (0.0, 10.0, -5.0), (0.0, 10.0, 0.0), (0.0, 10.0, 5.0), (0.0, 10.0, 10.0), (5.0, -10.0, -10.0), (5.0, -10.0, -5.0), (5.0, -10.0, 0.0), (5.0, -10.0, 5.0), (5.0, -10.0, 10.0), (5.0, -5.0, -10.0), (5.0, -5.0, -5.0), (5.0, -5.0, 0.0), (5.0, -5.0, 5.0), (5.0, -5.0, 10.0), (5.0, 0.0, -10.0), (5.0, 0.0, -5.0), (5.0, 0.0, 0.0), (5.0, 0.0, 5.0), (5.0, 0.0, 10.0), (5.0, 5.0, -10.0), (5.0, 5.0, -5.0), (5.0, 5.0, 0.0), (5.0, 5.0, 5.0), (5.0, 5.0, 10.0), (5.0, 10.0, -10.0), (5.0, 10.0, -5.0), (5.0, 10.0, 0.0), (5.0, 10.0, 5.0), (5.0, 10.0, 10.0), (10.0, -10.0, -10.0), (10.0, -10.0, -5.0), (10.0, -10.0, 0.0), (10.0, -10.0, 5.0), (10.0, -10.0, 10.0), (10.0, -5.0, -10.0), (10.0, -5.0, -5.0), (10.0, -5.0, 0.0), (10.0, -5.0, 5.0), (10.0, -5.0, 10.0), (10.0, 0.0, -10.0), (10.0, 0.0, -5.0), (10.0, 0.0, 0.0), (10.0, 0.0, 5.0), (10.0, 0.0, 10.0), (10.0, 5.0, -10.0), (10.0, 5.0, -5.0), (10.0, 5.0, 0.0), (10.0, 5.0, 5.0), (10.0, 5.0, 10.0), (10.0, 10.0, -10.0), (10.0, 10.0, -5.0), (10.0, 10.0, 0.0), (10.0, 10.0, 5.0), (10.0, 10.0, 10.0)]\n"
     ]
    }
   ],
   "source": [
    "X = np.linspace(-10,10,5)\n",
    "print(X)\n",
    "X2 = list(it.product(X, X, X))\n",
    "print(X2)"
   ]
  }
 ],
 "metadata": {
  "kernelspec": {
   "display_name": "Python 3",
   "language": "python",
   "name": "python3"
  },
  "language_info": {
   "codemirror_mode": {
    "name": "ipython",
    "version": 3
   },
   "file_extension": ".py",
   "mimetype": "text/x-python",
   "name": "python",
   "nbconvert_exporter": "python",
   "pygments_lexer": "ipython3",
   "version": "3.6.0"
  }
 },
 "nbformat": 4,
 "nbformat_minor": 2
}
