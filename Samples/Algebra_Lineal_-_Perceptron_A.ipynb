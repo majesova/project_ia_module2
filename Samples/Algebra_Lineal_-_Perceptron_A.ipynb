{
 "cells": [
  {
   "cell_type": "markdown",
   "metadata": {},
   "source": [
    "# Álgebra Lineal - Perceptrón\n",
    "\n",
    "## Introducción\n",
    "\n",
    "Las redes neuronales son modelos computacionales cuyo objetivo se centra en replicar métodos de procesamiento de información análogos a los que se encuentran en las neuronas del cerebro.\n",
    "\n",
    "Una red neuronal es una colección de neuronas interconectadas que aprenden incrementalmente de su entorno, es decir, los datos provistos, para capturar tendencias lineales y no lineales en datos complejos, de modo que proporciona predicciones confiables para situaciones nuevas incluso cuando se tiene ruido o información parcial[1].\n",
    "\n",
    "Desde el punto de vista computacional, el cerebro está formado por elementos de procesamiento de información denominados neuronas. Las neuronas están formadas por tres elementos esenciales:\n",
    "\n",
    "1. Las dendritas cuya función es recibir los pulsos eléctricos emitidos desde otras neuronas.\n",
    "2. El cuerpo de la neurona, en donde se encuentra el núcleo, que recibe los pulsos y los transforma. \n",
    "3. Una vez procesados los pulsos, estos son emitidos hacia otras neuronas a través del axón.\n",
    "\n",
    "<center>\n",
    "    <img src=\"Neurona_tagged.png\" width=\"600\">\n",
    "\n",
    "**Fig. 1:** Esquema de los componentes principales de una neurona.\n",
    "</center>\n",
    "\n",
    "El modelo del Perceptrón propuesto por McCuloch & Pitss[2] () fue el primer modelo matemático de estos sistemas. Este modelo incluye:\n",
    "1. Una capa de entrada que incluye los valores de las diferentes variables ($x_0, x_1 \\dotsc, x_n$). Cada uno de estos valores poseen factores de peso ($w_i$). La variable $x_0$ es denominada *bias* (sesgo) y usualmente posee el valor de 1. La representación matemática de las variables de entrada $x$ y los factores de peso $w$ son matriciales:\n",
    "\n",
    "\n",
    "$$ x = \\begin{bmatrix}\n",
    "           x_{1} \\\\\n",
    "           x_{2} \\\\\n",
    "           \\vdots \\\\\n",
    "           x_{n}\n",
    "         \\end{bmatrix}\n",
    "$$\n",
    " \n",
    "$$ w = \\begin{bmatrix}\n",
    "           w_{1} \\\\\n",
    "           w_{2} \\\\\n",
    "           \\vdots \\\\\n",
    "           w_{n}\n",
    "         \\end{bmatrix}\n",
    "$$\n",
    "\n",
    "\n",
    "\n",
    "\n",
    "2. La siguiente capa se encarga de aplicar una función suma ($\\sum$) que contempla la adición de las diferentes entradas con sus respectivos factores de peso ($x_i\\cdot w_i$). Esto es análogo al cálculo de una señal de entrada total en la neurona. La función de suma usualmente posee la siguiente forma:\n",
    "\n",
    "$$ u = \\sum_n w_i * x_i $$\n",
    "\n",
    "<!---$$ u = w^T \\cdot x $$ -->\n",
    "\n",
    "3. La capa de salida contempla aplicar una función de activación (f) para transforma el resultado de la función suma en un valor de salida determinado. Por ejemplo, en 0 y 1 en caso de desear un clasificador binario. \n",
    "\n",
    "$$ y = \\begin{bmatrix}\n",
    "           y_{1} \\\\\n",
    "           y_{2} \\\\\n",
    "           \\vdots \\\\\n",
    "           y_{n}\n",
    "         \\end{bmatrix}\n",
    "$$\n",
    "\n",
    "$$y = f(u) $$\n",
    "<center>\n",
    "    <img src=\"NeuralNetwork.png\" width=\"600\">\n",
    "**Fig. 1:** Modelo de una Red Neuronal Artificial.\n",
    "</center>"
   ]
  },
  {
   "cell_type": "markdown",
   "metadata": {},
   "source": [
    "## A. Perceptrón como una Compuerta Lógica\n",
    "\n",
    "Un ejercicio introductorio a la redes neuronales consiste en la selección de los factores de pesos adecuados para la creación de compuertas lógicas. La compuerta lógica **OR** posee la siguiente tabla de verdad. \n",
    "\n",
    "\n",
    "\n",
    "| $x_1$ | $x_2$   | y |\n",
    "| ------ |---------| ------:|\n",
    "| 0  | 0  | 0  |\n",
    "| 0  | 1  | 1  |\n",
    "| 1  | 0  | 1  |\n",
    "| 1  | 1  | 1  |\n",
    "\n",
    "<center>\n",
    "    Tabla 1. Tabla de verdad **OR**\n",
    "</center>\n",
    "\n",
    "\n",
    "(1) Crear una matriz $x_{or}$ con los 4 casos posibles de la compuerta **OR**."
   ]
  },
  {
   "cell_type": "code",
   "execution_count": 1,
   "metadata": {
    "collapsed": false
   },
   "outputs": [
    {
     "name": "stdout",
     "output_type": "stream",
     "text": [
      "Populating the interactive namespace from numpy and matplotlib\n"
     ]
    }
   ],
   "source": [
    "#Importación de bibliotecas\n",
    "import numpy as np\n",
    "import matplotlib.pyplot as plt\n",
    "%pylab inline"
   ]
  },
  {
   "cell_type": "code",
   "execution_count": 2,
   "metadata": {
    "collapsed": false
   },
   "outputs": [
    {
     "name": "stdout",
     "output_type": "stream",
     "text": [
      "[[0 0]\n",
      " [0 1]\n",
      " [1 0]\n",
      " [1 1]]\n"
     ]
    }
   ],
   "source": [
    "#(1) Crea la tabla aquí\n",
    "x_or = np.array([[0,0],[0,1],[1,0],[1,1]])\n",
    "print(x_or)"
   ]
  },
  {
   "cell_type": "markdown",
   "metadata": {},
   "source": [
    "(2) Añadir el *bias* en cada elemento."
   ]
  },
  {
   "cell_type": "code",
   "execution_count": 3,
   "metadata": {
    "collapsed": false
   },
   "outputs": [
    {
     "name": "stdout",
     "output_type": "stream",
     "text": [
      "[[1 0 0]\n",
      " [1 0 1]\n",
      " [1 1 0]\n",
      " [1 1 1]]\n"
     ]
    }
   ],
   "source": [
    "#(2) Añadir bias aquí\n",
    "x_or = np.insert(x_or, 0, 1, axis=1)\n",
    "print(x_or)"
   ]
  },
  {
   "cell_type": "markdown",
   "metadata": {},
   "source": [
    "(3) Crear la tabla de factores de peso. Por ahora, consideremos $w = [1,2,3]$."
   ]
  },
  {
   "cell_type": "code",
   "execution_count": 4,
   "metadata": {
    "collapsed": false
   },
   "outputs": [
    {
     "name": "stdout",
     "output_type": "stream",
     "text": [
      "[1 2 3]\n"
     ]
    }
   ],
   "source": [
    "#(3) Crear tabla de factores aquí\n",
    "w_or = np.array([1,2,3])\n",
    "print(w_or)"
   ]
  },
  {
   "cell_type": "markdown",
   "metadata": {},
   "source": [
    "(4) Consideremos ahora el elemento $x[1]$, es decir cuando $x_1 = 0$ y $x_2 = 1$. Aplica la función suma y almacena la respuesta en una variable *u_or*. No olvides de vectorizar las operaciones."
   ]
  },
  {
   "cell_type": "code",
   "execution_count": 5,
   "metadata": {
    "collapsed": false
   },
   "outputs": [
    {
     "name": "stdout",
     "output_type": "stream",
     "text": [
      "4\n"
     ]
    }
   ],
   "source": [
    "# (4) Aplicar función suma aquí.\n",
    "u_or = x_or[1].dot(w_or)\n",
    "print(u_or)"
   ]
  },
  {
   "cell_type": "markdown",
   "metadata": {},
   "source": [
    "(5) La función de activación a emplear será la función sigmoide. Esta función es ampliamente en los modelos de clasficación binaria. \n",
    "\n",
    "$$ f(x) = \\frac{1}{1+e^{-z}}$$\n",
    "\n",
    "Completa la definición de la función sigmoide que se proporciona a continuación. Aplícala a la variable *u_or* anteriormente definida."
   ]
  },
  {
   "cell_type": "code",
   "execution_count": 6,
   "metadata": {
    "collapsed": false
   },
   "outputs": [
    {
     "name": "stdout",
     "output_type": "stream",
     "text": [
      "0.982013790038\n"
     ]
    }
   ],
   "source": [
    "#Completar la definición de la función sigmoide\n",
    "\n",
    "def sigmoid(x):\n",
    "    return 1 / (1+np.exp(-x)) #Incluir aquí el código de la función sigmoide.\n",
    "\n",
    "#Aplica la función sobre u_or\n",
    "print(sigmoid(u_or))"
   ]
  },
  {
   "cell_type": "markdown",
   "metadata": {},
   "source": [
    "(5) Grafica la función sigmoide para observar su comportamiento en el intervalo (-20,20)."
   ]
  },
  {
   "cell_type": "code",
   "execution_count": 7,
   "metadata": {
    "collapsed": false
   },
   "outputs": [
    {
     "data": {
      "text/plain": [
       "[<matplotlib.lines.Line2D at 0x126d31dd208>]"
      ]
     },
     "execution_count": 7,
     "metadata": {},
     "output_type": "execute_result"
    },
    {
     "data": {
      "image/png": "[encoded data removed]",
      "text/plain": [
       "<matplotlib.figure.Figure at 0x126d2dc2d30>"
      ]
     },
     "metadata": {},
     "output_type": "display_data"
    }
   ],
   "source": [
    "#Grafiar la función sigmoide \n",
    "x_sigmoid = np.linspace(-20,20,50)\n",
    "plt.plot(x_sigmoid, sigmoid(x_sigmoid),'-')"
   ]
  },
  {
   "cell_type": "markdown",
   "metadata": {},
   "source": [
    "(6) A continuación automatizaremos todo los pasos anteriores en una sola función para poder calcular de manera más fácil el resultado de la compuerta lógica. Completa la función descrita a continuación."
   ]
  },
  {
   "cell_type": "code",
   "execution_count": 10,
   "metadata": {
    "collapsed": false
   },
   "outputs": [
    {
     "name": "stdout",
     "output_type": "stream",
     "text": [
      "[ 0.73105858  0.98201379  0.95257413  0.99752738]\n"
     ]
    }
   ],
   "source": [
    "#Completar la función lg_or\n",
    "#Recorrer con producto cartesiano las posibles w\n",
    "def lg_or(x, w):\n",
    "    #Completar el procedimiento aquí\n",
    "    #w_or = np.array([1,2,3])\n",
    "    \n",
    "    u_or = x.dot(w)\n",
    "    \n",
    "    return sigmoid(u_or)\n",
    "\n",
    "print(lg_or(x_or))"
   ]
  },
  {
   "cell_type": "markdown",
   "metadata": {},
   "source": [
    "(7) Modifica la función anterior, en específico la matriz de factores de peso para que funcione adecuadamente como una compuerta **OR**. "
   ]
  },
  {
   "cell_type": "code",
   "execution_count": 11,
   "metadata": {
    "collapsed": false
   },
   "outputs": [
    {
     "name": "stdout",
     "output_type": "stream",
     "text": [
      "[ 0.73105858  0.98201379  0.95257413  0.99752738]\n"
     ]
    }
   ],
   "source": [
    "print(lg_or(x_or))"
   ]
  },
  {
   "cell_type": "markdown",
   "metadata": {},
   "source": [
    "(8) Define las funciones para las compuertas lógicas **NOT** y **AND**, los cuales siguen las siguientes tablas de verdad:\n",
    "\n",
    "| $x_1$ | $y$   |\n",
    "| ------ | ------:|\n",
    "| 0  | 1  |\n",
    "| 1  | 0  |\n",
    "<center>\n",
    "    Tabla 1. Tabla de verdad **NOT**\n",
    "</center>\n",
    "\n",
    "| $x_1$ | $x_2$   | y |\n",
    "| ------ |---------| ------:|\n",
    "| 0  | 0  | 1  |\n",
    "| 0  | 1  | 0  |\n",
    "| 1  | 0  | 0  |\n",
    "| 1  | 1  | 1  |\n",
    "\n",
    "<center>\n",
    "    Tabla 1. Tabla de verdad **AND**\n",
    "</center>\n",
    "\n",
    "Prueba los valores de las funciones definidas con las tablas de entrada de cada uno.\n"
   ]
  },
  {
   "cell_type": "code",
   "execution_count": null,
   "metadata": {
    "collapsed": true
   },
   "outputs": [],
   "source": [
    "# Definir la compuerta OR\n",
    "\n",
    "def lg_not(x):\n",
    "    # Completar el procedimiento aquí\n",
    "    return \n",
    "\n",
    "# Crear la tabla de entrada (no olvidar el bias)\n",
    "\n",
    "\n",
    "# Probar con los valores de la tabla de entrada."
   ]
  },
  {
   "cell_type": "code",
   "execution_count": null,
   "metadata": {
    "collapsed": true
   },
   "outputs": [],
   "source": [
    "# Definir la compuerta and\n",
    "\n",
    "def lg_and(x):\n",
    "    # Completar el procedimiento aquí\n",
    "    return \n",
    "\n",
    "# Crear la tabla de entrada (no olvidar el bias)\n",
    "\n",
    "\n",
    "# Probar con los valores de la tabla de entrada."
   ]
  }
 ],
 "metadata": {
  "kernelspec": {
   "display_name": "Python 3",
   "language": "python",
   "name": "python3"
  },
  "language_info": {
   "codemirror_mode": {
    "name": "ipython",
    "version": 3
   },
   "file_extension": ".py",
   "mimetype": "text/x-python",
   "name": "python",
   "nbconvert_exporter": "python",
   "pygments_lexer": "ipython3",
   "version": "3.6.0"
  }
 },
 "nbformat": 4,
 "nbformat_minor": 2
}
