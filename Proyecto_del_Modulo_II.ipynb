{
 "cells": [
  {
   "cell_type": "markdown",
   "metadata": {},
   "source": [
    "# Red Neuronal para Multiclasificación\n",
    "\n",
    "## Clasificación binaria\n",
    "\n",
    "El perceptrón representa una sola neurona con una capacidad limitada. Para el caso específico de la clasificación binaria, esta neurona artificial se puede modelar como una combinación lineal de entradas con la adición de una entrada constante con valor 1 llamada *bias*, y sobre la salida opera una función que da como resultado 0 o 1.\n",
    "\n",
    "<center>\n",
    "    <img src=\"perceptron.png\" width=\"400\">\n",
    "    Ejemplo esquemático de un perceptrón.\n",
    "</center>\n",
    "\n",
    "***\n",
    "\n",
    "$$ z_1 = \\sum_{i = 0}^n{w_i \\cdot x_i} $$\n",
    "\n",
    "$$ a_1 = f(z_1) = \\frac{1}{1+e^{-z_1}} $$\n",
    "\n",
    "\n",
    "<center>\n",
    "Ecuaciones del perceptrón.\n",
    "</center>"
   ]
  },
  {
   "cell_type": "markdown",
   "metadata": {},
   "source": [
    "#### Ejercicio 1\n",
    "Implementar el perceptrón."
   ]
  },
  {
   "cell_type": "code",
   "execution_count": 120,
   "metadata": {},
   "outputs": [],
   "source": [
    "# Módulos importados\n",
    "import numpy as np\n",
    "import pandas as pd\n",
    "import matplotlib.pyplot as plt\n",
    "import random\n",
    "import math"
   ]
  },
  {
   "cell_type": "code",
   "execution_count": 121,
   "metadata": {},
   "outputs": [
    {
     "name": "stdout",
     "output_type": "stream",
     "text": [
      "[1 1 1 1 1 1]\n"
     ]
    }
   ],
   "source": [
    "# Implementación del perceptrón\n",
    "\n",
    "# Crear una o varias variables para los pesos de las entradas dependiendo del número de entradas.\n",
    "# Deben tener valores iniciales aleatorios entre 0 y 1.\n",
    "inputs = np.array([[0,1], [0,0], [1,1], [1,0], [0,1] ,[1,1]]) #array para probar ejercicio 1\n",
    "class Perceptronio:\n",
    "    def __init__(self):\n",
    "        self.pesos = [] #inicializamos los pesos\n",
    "    def gen_pesos(self):\n",
    "        self.pesos = np.random.choice([0., 1.], size=((1 + inputs.shape[1]),), p=[.5, .5]) #Se generan pesos entre 0 y 1 random\n",
    "    def predict(self, inputs):\n",
    "        z = np.dot(inputs, self.pesos[1:]) + self.pesos[0] # función dot para obtener la suma de xi.wi\n",
    "        #print(z), se comenta por que sale un cuadro enorme de texto con los valores ya aplicando en entrenamiento\n",
    "        phi = np.where(z >= 0.0, 1, 0)# se seleccionan de\n",
    "        return phi\n",
    "\n",
    "perceptronio = Perceptronio() #Se crea instancia\n",
    "perceptronio.gen_pesos() #generar datos muestra\n",
    "#prueba de funcionamiento\n",
    "phi = perceptronio.predict(inputs) # demo de ejecución\n",
    "print (phi)"
   ]
  },
  {
   "cell_type": "markdown",
   "metadata": {},
   "source": [
    "Para poder evaluar el desempeño del perceptrón, se necesita utilizar datos etiquetados para comparar. Para ello se hace uso del famoso conjunto de datos *Iris*, en específico se utilizarán solamente dos especies: *Setosa* y *Versicolor*. Además, solo se considerarán dos propiedades, longitud de sépalo y longitud de pétalo, para fines de visualización."
   ]
  },
  {
   "cell_type": "code",
   "execution_count": 122,
   "metadata": {},
   "outputs": [],
   "source": [
    "# Base de datos Iris\n",
    "iris_data = pd.read_csv('https://archive.ics.uci.edu/ml/machine-learning-databases/iris/iris.data', header=None)\n",
    "\n",
    "# Selección de Setosa (0) y Versicolor (1)\n",
    "data_y = iris_data.iloc[0:100, 4].values\n",
    "data_y = np.where(data_y == 'Iris-setosa', 0, 1)\n",
    "\n",
    "# Selección de longitud de sépalo y pétalo\n",
    "data_x = iris_data.iloc[0:100, [0,2]].values\n",
    "#print(data_x)\n",
    "#print(data_x[1:])"
   ]
  },
  {
   "cell_type": "code",
   "execution_count": 123,
   "metadata": {},
   "outputs": [
    {
     "data": {
      "image/png": "[encoded data removed]",
      "text/plain": [
       "<Figure size 432x288 with 1 Axes>"
      ]
     },
     "metadata": {
      "needs_background": "light"
     },
     "output_type": "display_data"
    }
   ],
   "source": [
    "# Gráfica de los datos\n",
    "plt.title('Original Data')\n",
    "plt.xlabel('sepal length [cm]')\n",
    "plt.ylabel('petal length [cm]')\n",
    "data_color = ['r' if i == 0 else 'b' for i in data_y]\n",
    "plt.scatter(data_x[:,0],data_x[:,1],c=data_color, marker='d', alpha=0.5)\n",
    "plt.show()"
   ]
  },
  {
   "cell_type": "markdown",
   "metadata": {},
   "source": [
    "Utilizando una instancia del perceptrón creado anteriormente, la predicción que generaría para este conjunto de datos sería, lo más probable, incorrecta. Esto se debe a que los pesos están inicializados de manera aleatoria.\n",
    "\n",
    "Para poder entrenar al perceptron, necesita tener una manera de corregir apropiadamente los pesos de sus entradas."
   ]
  },
  {
   "cell_type": "markdown",
   "metadata": {},
   "source": [
    "### SGD\n",
    "El método de Descenso de Gradiente Estocástico (SGD por sus siglas en inglés) permite encontrar el mínimo de una función con la información de su derivada. En este caso, la función a minimizar es la pérdida, que representa el error en la predicción del perceptrón comparado con el valor real. Para el perceptrón, la ecuación del SGD está dada por:\n",
    "\n",
    "$$ w^{n+1}_i = w^n_i + \\eta \\cdot (y_{real} - y_{pred}) \\cdot x_i $$\n",
    "\n",
    "Donde $w^{n+1}_i$ es el nuevo valor para el peso de la $i$-ésima entrada, $w^n_i$ es el valor del peso actual, y $\\eta$ es la razón de aprendizaje. Éste último valor controla la velocidad en la que el perceptrón se va aprendiendo de sus errores, y normalmente tiene un valor entre 0 y 1."
   ]
  },
  {
   "cell_type": "markdown",
   "metadata": {},
   "source": [
    "#### Ejercicio 2\n",
    "Expandir la funcionalidad del perceptrón con una función de SGD:"
   ]
  },
  {
   "cell_type": "code",
   "execution_count": 124,
   "metadata": {},
   "outputs": [],
   "source": [
    "# Implementar la función de SGD para calcular nuevos pesos a las entradas tomando en cuenta un conjunto de datos de entrada con sus respectivas\n",
    "# salidas. Además de estos valores de entrada, recibe un valor para la taza de aprendizaje\n",
    "\n",
    "#se agrega una propiedad para que tome en cuenta la tasa\n",
    "def get_learning_rate(self):\n",
    "        return self.learning_rate\n",
    "def set_learning_rate(self, value):\n",
    "        self.learning_rate = value\n",
    "Perceptronio.get_learning_rate = get_learning_rate\n",
    "Perceptronio.set_learning_rate = set_learning_rate\n",
    "\n",
    "\n",
    "def sgd(self, inputs, label):\n",
    "    for i, l in zip(inputs, label): #se recorren correspondientemente xs,ys\n",
    "        delta_w = self.learning_rate * (l - self.predict(i)) #se multiplica la tasa de aprendizaje\n",
    "        self.pesos[1:] += delta_w * i #Se actualiza peso \n",
    "        self.pesos[0] += delta_w #Se actualiza peso\n",
    "    return self\n",
    "\n",
    "#se extiende la función sgd\n",
    "Perceptronio.sgd = sgd"
   ]
  },
  {
   "cell_type": "markdown",
   "metadata": {},
   "source": [
    "### Entrenamiento\n",
    "Para poder entrenar el perceptrón, es necesario dividir la data que se tiene en dos partes:\n",
    "1. Data de entrenamiento\n",
    "1. Data de validación\n",
    "\n",
    "La data de entrenamiento se utiliza para realizar ajustes en los pesos de las entradas, mientras que la data de validación se utiliza para observar que la precisión aumenta de forma generalizada y no se realize un *overfitting*. **No** se realiza ajuste de pesos con estos datos.\n",
    "\n",
    "Una técnica aplicada usualmente para el entrenamiento es dividir los datos que se tienen en 80-20, es decir, 80% se utiliza como data de entrenamiento, mientras que el 20% restante como data de validación. Es importante que ambos conjuntos de datos tengan una distribución adecuada de los posibles casos."
   ]
  },
  {
   "cell_type": "markdown",
   "metadata": {},
   "source": [
    "#### Ejercicio 3\n",
    "Expandir la funcionalidad del perceptrón con una función de entrenamiento:"
   ]
  },
  {
   "cell_type": "code",
   "execution_count": 125,
   "metadata": {},
   "outputs": [],
   "source": [
    "# Implementar la función de entrenamiento para el perceptrón, tomando como entrada un conjunto grande de valores de entrada con sus respectivos\n",
    "# valores de salida. Además recibe el valor para la taza de aprendizaje y un número de 'épocas', las cuales indican cuantas veces se realiza el\n",
    "# el proceso de entrenamiento.\n",
    "\n",
    "#se agrega una propiedad para que tome en cuenta el número de iteraciones\n",
    "def get_epochs(self):\n",
    "        return self.epochs\n",
    "def set_epochs(self, value):\n",
    "        self.epochs = value\n",
    "        \n",
    "Perceptronio.get_epochs = get_epochs\n",
    "Perceptronio.set_epochs = set_epochs\n",
    "\n",
    "\n",
    "def train(self, train_inputs, train_labels):\n",
    "    self.pesos = np.zeros(1 + train_inputs.shape[1]) #Crea ceros para los pesos para 1+N posiciones\n",
    "    for _ in range(self.epochs):\n",
    "        sgd(self, train_inputs, train_labels) #ejecuta el sgd para cada uno\n",
    "        \n",
    "    return self\n",
    "    \n",
    "Perceptronio.train = train"
   ]
  },
  {
   "cell_type": "markdown",
   "metadata": {},
   "source": [
    "**Nota:** Para cada una de las iteraciones (*epochs*), imprimir la precisión del perceptrón con respecto a la data de validación."
   ]
  },
  {
   "cell_type": "markdown",
   "metadata": {},
   "source": [
    "### Predicción\n",
    "Con el perceptrón apropiadamente entrenado, podemos aplicarlo sobre todo el conjunto  de datos y, potencialmente, con datos completamente nuevos."
   ]
  },
  {
   "cell_type": "markdown",
   "metadata": {},
   "source": [
    "#### Ejercicio 4\n",
    "Utilizar el perceptrón entrenado para clasificar los datos. Visualizar la categoría predicha por el perceptrón vs la categoría real a la que pertenece:"
   ]
  },
  {
   "cell_type": "code",
   "execution_count": 126,
   "metadata": {},
   "outputs": [],
   "source": [
    "from matplotlib.colors import ListedColormap\n",
    "\n",
    "perceptronio = Perceptronio()\n",
    "perceptronio.learning_rate = 0.1\n",
    "perceptronio.epochs = 20\n",
    "perceptronio.train(data_x, data_y)\n",
    "    \n",
    "def plotRegions(X, y, resolution):\n",
    "    colors = ('red', 'blue')\n",
    "    cmap = ListedColormap(colors[:len(np.unique(y))])\n",
    "    x1_min, x1_max = X[:, 0].min() - 1, X[:, 0].max() + 1\n",
    "    x2_min, x2_max = X[:, 1].min() - 1, X[:, 1].max() + 1\n",
    "    xx1, xx2 = np.meshgrid(np.arange(x1_min, x1_max, resolution), np.arange(x2_min, x2_max, resolution))\n",
    "    Z = perceptronio.predict(np.array([xx1.ravel(), xx2.ravel()]).T)\n",
    "    Z = Z.reshape(xx1.shape)\n",
    "    \n",
    "    plt.contourf(xx1, xx2, Z, alpha=0.6, cmap=cmap)\n",
    "    plt.xlim(xx1.min(), xx1.max())\n",
    "    plt.ylim(xx2.min(), xx2.max())"
   ]
  },
  {
   "cell_type": "code",
   "execution_count": 127,
   "metadata": {},
   "outputs": [
    {
     "data": {
      "image/png": "[encoded data removed]",
      "text/plain": [
       "<Figure size 432x288 with 1 Axes>"
      ]
     },
     "metadata": {
      "needs_background": "light"
     },
     "output_type": "display_data"
    }
   ],
   "source": [
    "# Visualización de los datos\n",
    "plt.title('Training Data')\n",
    "plt.xlabel('sepal length [cm]')\n",
    "plt.ylabel('petal length [cm]')\n",
    "data_color = ['r' if i == 0 else 'b' for i in data_y]\n",
    "plt.scatter(data_x[:,0],data_x[:,1],c=data_color, marker='d', alpha=0.5)\n",
    "plotRegions(data_x, data_y, 0.01)\n",
    "plt.show()"
   ]
  },
  {
   "cell_type": "markdown",
   "metadata": {},
   "source": [
    "---\n",
    "---\n",
    "\n",
    "## Paralelización\n",
    "En el proceso desarrollado en este proyecto, ¿qué partes consideras que podrían optimizarse con paralelización?"
   ]
  },
  {
   "cell_type": "raw",
   "metadata": {},
   "source": [
    "\n",
    "El proceso desarrollado en este proyecto no requiere tanto poder de cómputo, sin embargo existen maneras de optimizar el perceptrón con el uso de paralelización, una de estas maneras es:\n",
    "\n",
    "Dividir los datos en diferentes sets y entrenar cada set de datos, para finalmente combinarlos para obtener el resultado, con un promedio de los pesos. \n",
    "Otra opción sería iterar los mismos pasos con el mismo peso para cada set de datos, tomando la primera opción de la división de los datos en diferentes sets.\n",
    "El problema reside en que se requiere promediar de alguna manera los pesos para obtener los mismos resultados que si se estuvieran procesando todos los datos en una sola vez sin paralelización.\n",
    "\n",
    "Otra es:\n",
    "\n",
    "Se puede crear un agente de servicio con el patrón service broker de tal manera que se envíen varios sets de entrenamiento a distintas máquinas o procesos. El broker esperaría que todos los entrenamientos terminaran y trataría de realizar un mix con los demás aprendizaje dando una entrada más exacta en las decisiones de la red.\n",
    "\n"
   ]
  },
  {
   "cell_type": "markdown",
   "metadata": {},
   "source": []
  },
  {
   "cell_type": "markdown",
   "metadata": {},
   "source": [
    "## Reto Extra: Clasificación multiclase\n",
    "\n",
    "La principal limitación del perceptrón es su linealidad, es decir, solamente puede realizar clasificación que sean linealmente separables. Para el caso en que los datos no puedas separarse linealmente o que pertenezcan a más de una categoría, el perceptrón por sí solo es incapaz de realizar una predicción satisfactoria.\n",
    "\n",
    "La solución para este tipo de problemas es hacer uso de una red neuronal, es decir, utilizar múltiples perceptrones interconectados entre sí para poder obtener una mayor funcionalidad.\n",
    "\n",
    "<center>\n",
    "    <img src=\"neuralnetwork.png\" width=\"400\">\n",
    "    Ejemplo esquemático de una red neuronal.\n",
    "</center>\n",
    "\n",
    "Una red neuronal está compuesta de forma general en tres secciones:\n",
    "1. **Capa de entrada:** Está conformada por las neuronas que reciben directamente las señales de entrada del sistema.\n",
    "1. **Capa de salida:** Esta compuesta por las neuronas cuyas salidas son las señales de salida del sistema.\n",
    "1. **Capa(s) oculta(s):** Esta capa, que puede ser una o más, tiene las neuronas que se conectan con otros neuronas del sistema. Para el caso de una sola capa oculta, las entradas de las neuronas de esta capa se conectan con las salidas de las neuronas de la capa de entrada, y sus salidas a su vez se conectan con las entradas de las neuronas de la capa de salida."
   ]
  },
  {
   "cell_type": "markdown",
   "metadata": {},
   "source": [
    "### Red neuronal\n",
    "Para fines de este proyecto, se tomarán en cuenta la siguientes caracteríticas:\n",
    "1. Las redes neuronales tendrán solamente una capa oculta.\n",
    "1. Las redes neuronales serán completamente interconectadas. Esto significada que todas las salidas de la capa de entrada se conectana a todas las entradas de la capa oculta, y las salidas de la capa oculta se conectan a todos las entradas de la capa de salida.\n",
    "\n",
    "Otro punto importante es la codificación de las salidas. Normalmente, para problemas de clasificación se maneja *one-hot encoding*. Esto significa que se crea un número de dimensiones igual al número de categorías y se le asigna el valor de uno a la dimensión correspondiente y cero para todas las demás. Ejemplo, en el caso de tener 5 clases, estas se representarían como:\n",
    "$$ c_0 = [1, 0, 0, 0, 0]$$\n",
    "$$ c_1 = [0, 1, 0, 0, 0]$$\n",
    "$$ c_2 = [0, 0, 1, 0, 0]$$\n",
    "$$ c_3 = [0, 0, 0, 1, 0]$$\n",
    "$$ c_4 = [0, 0, 0, 0, 1]$$\n",
    "Este método para manejar las clases permite una mejor predicción de parte de la red neuronal."
   ]
  },
  {
   "cell_type": "markdown",
   "metadata": {},
   "source": [
    "#### Ejercicio 5\n",
    "Implementar una nueva clase para la red neuronal, con su inicialización como la predicción:"
   ]
  },
  {
   "cell_type": "code",
   "execution_count": 128,
   "metadata": {},
   "outputs": [],
   "source": [
    "# Implementación de la clase de red neuronal\n",
    "class NeuralNetwork:\n",
    "    \n",
    "    def __init__(self, ninputs, nhidden, noutputs):\n",
    "        self.nInputs = ninputs\n",
    "        self.nHidden= nhidden\n",
    "        self.nOutputs =  noutputs\n",
    "        self.pesos = np.random.choice([0., 1.], size=(3,), p=[.5, .5])#hardcode con 3 pues no recibe inputs aquí para hacer un shape\n",
    "        pass\n",
    "    \n",
    "    def predict(self, inputs):\n",
    "        z = np.dot(inputs, self.pesos[1:]) + self.pesos[0] # función dot para obtener la suma de xi.wi\n",
    "        phi = np.where(z >= 0.0, 1, 0)# se seleccionan de\n",
    "        return phi"
   ]
  },
  {
   "cell_type": "markdown",
   "metadata": {},
   "source": [
    "Establecida la clase para la red neuronal, necesitamos definir el método con el que se va a realizar el ajuste de los pesos de las múltiples neuronas que componen nuestra red. Para ello necesitamos definir en primer lugar la función de pérdida.\n",
    "\n",
    "### Función de pérdida\n",
    "\n",
    "Esta función permite cuantificar que tanto difiere la predicción de los valores reales. Una de las funciones de pérdida más usadas, y que será empleada para este proyecto, es la *pérdida cuadrática*.\n",
    "\n",
    "$$ L = C \\cdot (x - x_{real})^2 $$\n",
    "\n",
    "Donde $x_{real}$ es el vector de $n$-dimensiones de los valores reales, y $x$ es el vector de los valores obtenidos con la predicción de la red neuronal.\n",
    "\n",
    "### Backpropagation\n",
    "\n",
    "Es evidente que el ajuste de pesos como se implementó en el perceptrón. Sin embargo, antes de profundizar en el manejo del aprendizaje en la red neuronal, se necesita estudiar con mayor detalle el SGD.\n",
    "\n",
    "SGD fue definido anteriormente como:\n",
    "\n",
    "$$ w^{n+1}_i = w^n_i + \\eta \\cdot (y_{real} - y_{pred}) \\cdot x_i $$\n",
    "\n",
    "Sin embargo, esta forma solo es válida para el perceptrón que se analizó. Para la red neuronal, la expresión de SGD está dada por:\n",
    "\n",
    "$$ w^{n+1}_i = w^n_i + \\eta \\cdot {\\partial L \\over \\partial w_i} $$\n",
    "\n",
    "Aplicando esta expresión a la red neuronal que se ha estado desarrollando, obtenemos para la capa de salida:\n",
    "\n",
    "$$ {\\partial L \\over \\partial w_2} = (a_2 - y_{real}) {\\partial a_2 \\over \\partial w_2} $$\n",
    "$$ {\\partial L \\over \\partial w_2} = [(a_2 - y_{real}) \\circ f'(w_2 a_1)] {\\partial w_2 a_1 \\over \\partial w_2} $$\n",
    "$$ {\\partial L \\over \\partial w_2} = [(a_2 - y_{real}) \\circ f'(w_2 a_1)] x_1^T $$\n",
    "Estableciendo que:\n",
    "$$ \\delta_2 = (a_2 - y_{real}) \\circ f'(w_2 a_1) $$\n",
    "$$ {\\partial L \\over \\partial w_2} = \\delta_2 a_1^T $$\n",
    "\n",
    "La nomenclatura que se maneja es la siguiente:\n",
    "* El subíndice tiene el rango de 0 a 2, representando las tres capas que compone la red neuronal: 0 = capa de entrada, 1 = capa oculta, 2 = capa de salida.\n",
    "* Los pesos representan la conexión entre la capa actual y sus entradas.\n",
    "* $\\circ$ simboliza el prodctio de Hadamard.\n",
    "* $f'$ es la derivada de la función de activación definida en el perceptrón.\n",
    "\n",
    "Prosiguiendo con la siguiente capa:\n",
    "\n",
    "$$ {\\partial L \\over \\partial w_1} = (a_2 - y_{real}) {\\partial a_2 \\over \\partial w_1} $$\n",
    "$$ {\\partial L \\over \\partial w_2} = [(a_2 - y_{real}) \\circ f'(w_2 a_1)] {\\partial w_2 a_1 \\over \\partial w_1} $$\n",
    "$$ {\\partial L \\over \\partial w_2} = \\delta_2 {\\partial w_2 a_1 \\over \\partial w_1} $$\n",
    "$$ {\\partial L \\over \\partial w_2} = w_2^T \\delta_2 {\\partial a_1 \\over \\partial w_1} $$\n",
    "$$ {\\partial L \\over \\partial w_2} = [w_2^T \\delta_2 \\circ f'(w_1 a_0)] {\\partial a_0 \\over \\partial w_1} $$\n",
    "$$ {\\partial L \\over \\partial w_2} = \\delta_1 x_0^T $$\n",
    "\n",
    "Análogamente, se puede derivar la expresión para la capa faltante. Un análisis detallado de estas expresiones da luz a la relación entre ellas:\n",
    "* Para la última capa, es decir, la capa de salida:\n",
    "$$ \\delta_N = (a_N - y_{real}) \\circ f'(w_N x_{N-1}) $$\n",
    "* Para las demás capas:\n",
    "$$ \\delta_i = w_{i+1}^T \\delta_{i+1} \\circ f'(w_i x_{i-1}) $$\n",
    "Por consiguiente, la actualización de los pesos se definen como:\n",
    "$$ w^{n+1}_i = w^n_i - \\eta \\circ {\\partial L \\over \\partial w_i} = w^n_i - \\eta \\circ \\delta_i x_{i-1}^T $$"
   ]
  },
  {
   "cell_type": "markdown",
   "metadata": {},
   "source": [
    "#### Ejercicio 6\n",
    "Implementar tanto la funcionalidad de *backpropagation* como la de entrenamiento a la clase de la red neuronal:"
   ]
  },
  {
   "cell_type": "code",
   "execution_count": 11,
   "metadata": {
    "collapsed": true
   },
   "outputs": [],
   "source": [
    "# Implementación de la clase de red neuronal\n",
    "class NeuralNetwork:\n",
    "    \n",
    "    def __init__(self, ninputs, nhidden, noutputs):\n",
    "        # Proceso de inicialización\n",
    "        # ninputs: Número de entradas\n",
    "        # nhidden: Número de neuronas ocultas\n",
    "        # noutputs: Número de salidas\n",
    "        # Nota: inicializar los pesos de las entradas con valores aleatorios entre 0 y 1\n",
    "        pass\n",
    "    \n",
    "    def predict(self, inputs):\n",
    "        # Calcula la predicción de la red neuronal\n",
    "        # inputs: Vector con las entradas de la red neuronal\n",
    "        pass\n",
    "    \n",
    "    def backpropagation(self, inputs, label, learning_rate):\n",
    "        # Ajuste la red neuronal utilizando backpropagation\n",
    "        # inputs: Vector con las entradas de la red neuronal\n",
    "        # label: Vector de la categoría a la que pertence la entrada\n",
    "        # learning_rate: Valor entre 0 y 1 para ajustar la taza de aprendizaje\n",
    "        pass\n",
    "    \n",
    "    def train(self, train_inputs, train_labels, epochs):\n",
    "        # Entrenamiento de la red neuronal aplicando backpropagation\n",
    "        # train_inputs: Conjunto de vectores de entrada \n",
    "        # train_labels: Conjunto de vectores de etiquetas de categoría correspondiente al conjunto de entradas\n",
    "        # epochs: Número de iteraciones que se va a ejecutar el entrenamiento\n",
    "        pass"
   ]
  },
  {
   "cell_type": "code",
   "execution_count": 12,
   "metadata": {
    "collapsed": true
   },
   "outputs": [],
   "source": [
    "# Selección de Setosa, Versicolor y Virginica\n",
    "multi_data_y = iris_data.iloc[0:150, 4].values\n",
    "#multi_data_y = np.where(data_y == 'Iris-setosa', 0, 1)\n",
    "multi_label_y = [[1,0,0] if i == 'Iris-setosa' else i for i in multi_data_y]\n",
    "multi_label_y = [[0,1,0] if i == 'Iris-versicolor' else i for i in multi_label_y]\n",
    "multi_label_y = [[0,0,1] if i == 'Iris-virginica' else i for i in multi_label_y]\n",
    "\n",
    "# Selección de longitud de sépalo y pétalo\n",
    "multi_data_x = iris_data.iloc[0:150, [0,2]].values"
   ]
  },
  {
   "cell_type": "code",
   "execution_count": 13,
   "metadata": {},
   "outputs": [
    {
     "data": {
      "image/png": "[encoded data removed]",
      "text/plain": [
       "<Figure size 432x288 with 1 Axes>"
      ]
     },
     "metadata": {
      "needs_background": "light"
     },
     "output_type": "display_data"
    }
   ],
   "source": [
    "# Visualización de los datos\n",
    "plt.xlabel('sepal length [cm]')\n",
    "plt.ylabel('petal length [cm]')\n",
    "multi_color_y = ['r' if i == 'Iris-setosa' else i for i in multi_data_y]\n",
    "multi_color_y = ['b' if i == 'Iris-versicolor' else i for i in multi_color_y]\n",
    "multi_color_y = ['g' if i == 'Iris-virginica' else i for i in multi_color_y]\n",
    "plt.scatter(multi_data_x[:,0],multi_data_x[:,1],c=multi_color_y, marker='d', alpha=0.5)\n",
    "plt.show()"
   ]
  },
  {
   "cell_type": "markdown",
   "metadata": {},
   "source": [
    "Para poder visualizar el poder de la red neuronal, se utilizará para un problema de multiclasificación para el conjunto de datos Iris.\n",
    "#### Ejercicio 7\n",
    "Utilizar la red neuronal para resolver el problema de clasificación de tres especies en base a la longitud de sépalo y pétalo."
   ]
  },
  {
   "cell_type": "code",
   "execution_count": 14,
   "metadata": {
    "collapsed": true
   },
   "outputs": [],
   "source": [
    "# Implementar código de la red neuronal para este problema"
   ]
  },
  {
   "cell_type": "code",
   "execution_count": 15,
   "metadata": {},
   "outputs": [
    {
     "data": {
      "image/png": "[encoded data removed]",
      "text/plain": [
       "<Figure size 432x288 with 1 Axes>"
      ]
     },
     "metadata": {
      "needs_background": "light"
     },
     "output_type": "display_data"
    }
   ],
   "source": [
    "# Visualización de los datos\n",
    "plt.xlabel('sepal length [cm]')\n",
    "plt.ylabel('petal length [cm]')\n",
    "multi_color_y = ['r' if i == 'Iris-setosa' else i for i in multi_data_y]\n",
    "multi_color_y = ['b' if i == 'Iris-versicolor' else i for i in multi_color_y]\n",
    "multi_color_y = ['g' if i == 'Iris-virginica' else i for i in multi_color_y]\n",
    "plt.scatter(multi_data_x[:,0],multi_data_x[:,1],c=multi_color_y, marker='d', alpha=0.5)\n",
    "# Agregar la visualización de la predicción de la red neuronal\n",
    "plt.show()"
   ]
  }
 ],
 "metadata": {
  "kernelspec": {
   "display_name": "Python 3",
   "language": "python",
   "name": "python3"
  },
  "language_info": {
   "codemirror_mode": {
    "name": "ipython",
    "version": 3
   },
   "file_extension": ".py",
   "mimetype": "text/x-python",
   "name": "python",
   "nbconvert_exporter": "python",
   "pygments_lexer": "ipython3",
   "version": "3.7.0"
  }
 },
 "nbformat": 4,
 "nbformat_minor": 2
}
